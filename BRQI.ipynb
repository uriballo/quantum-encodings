{
 "cells": [
  {
   "cell_type": "code",
   "execution_count": 1,
   "metadata": {},
   "outputs": [],
   "source": [
    "import utils\n",
    "import qiskit\n",
    "import qiskit_aer\n",
    "import numpy as np\n",
    "from math import log\n",
    "import qiskit.visualization\n",
    "import matplotlib.pyplot as plt"
   ]
  },
  {
   "cell_type": "code",
   "execution_count": 2,
   "metadata": {},
   "outputs": [
    {
     "data": {
      "image/png": "[encoded data removed]",
      "text/plain": [
       "<Figure size 640x480 with 1 Axes>"
      ]
     },
     "metadata": {},
     "output_type": "display_data"
    }
   ],
   "source": [
    "image = utils.plot_image('images/three_8by8.jpg', 'Digit 3 from MNIST')"
   ]
  },
  {
   "cell_type": "code",
   "execution_count": null,
   "metadata": {},
   "outputs": [],
   "source": [
    "def equal_superposition(circ: qiskit.QuantumCircuit, start: int, end: int):\n",
    "    for idx in range(start, end): \n",
    "        circ.h(idx)\n",
    "        \n",
    "def iterate(circ: qiskit.QuantumCircuit, padding: int, current_state: str, next_state: str):\n",
    "    n = len(current_state)\n",
    "    \n",
    "    # Indices we must apply an X gate to go from current_state to next_state \n",
    "    #   - We reverse the state strings because we set the coordinates qubits in the circuit\n",
    "    #       in descending order.\n",
    "    x_targets = np.array([idx + padding for idx in range(n) \n",
    "                          if current_state[::-1][idx] != next_state[::-1][idx]])\n",
    "\n",
    "    # Example\n",
    "    # 1110 -> 1111\n",
    "    #   if we don't reverse the strings we get:\n",
    "    #   x_targets = [3]\n",
    "    #   thus we will apply the X gate on the fourth qubit.\n",
    "    #   but this is not what we want, we should apply it to the first qubit.\n",
    "    #   think little endian vs big endian\n",
    "    \n",
    "    if x_targets.size > 0:\n",
    "        circ.x(x_targets)\n",
    "\n",
    "def pixel_encoding(circ: qiskit.QuantumCircuit, control: list, intensity: str):\n",
    "    for idx, val in enumerate(intensity[::-1]):\n",
    "        if int(val):\n",
    "            circ.mcx(control_qubits=control,\n",
    "                     target_qubit=idx)\n",
    "            \n",
    "    "
   ]
  },
  {
   "cell_type": "code",
   "execution_count": null,
   "metadata": {},
   "outputs": [],
   "source": [
    "def construct_brqi():\n",
    "    pass"
   ]
  },
  {
   "cell_type": "code",
   "execution_count": null,
   "metadata": {},
   "outputs": [],
   "source": [
    "flat_ang_rep = utils.get_angle_representation(image,\n",
    "                                                min_val=0,\n",
    "                                                max_val=255)\n",
    "\n",
    "n = int(log(image.shape[0], 2))\n",
    "\n",
    "idx_reg = qiskit.QuantumRegister(2 * n, 'Index')\n",
    "intensity_reg = qiskit.QuantumRegister(8, \"Intensity\") # Color intensity 2^8 -> (0, 255)\n",
    "creg = qiskit.ClassicalRegister(2 * n + 8, 'bits')\n",
    "neqr_circuit = qiskit.QuantumCircuit(intensity_reg, idx_reg, creg)"
   ]
  },
  {
   "cell_type": "code",
   "execution_count": null,
   "metadata": {},
   "outputs": [],
   "source": [
    "construct_brqi(neqr_circuit,  image)\n",
    "neqr_circuit.draw(output='mpl')"
   ]
  }
 ],
 "metadata": {
  "kernelspec": {
   "display_name": "qrep-env",
   "language": "python",
   "name": "python3"
  },
  "language_info": {
   "codemirror_mode": {
    "name": "ipython",
    "version": 3
   },
   "file_extension": ".py",
   "mimetype": "text/x-python",
   "name": "python",
   "nbconvert_exporter": "python",
   "pygments_lexer": "ipython3",
   "version": "3.12.6"
  }
 },
 "nbformat": 4,
 "nbformat_minor": 2
}
