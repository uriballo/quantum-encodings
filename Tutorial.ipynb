{
 "cells": [
  {
   "cell_type": "markdown",
   "metadata": {},
   "source": [
    "# Quantum representations of classical data tutorial"
   ]
  },
  {
   "cell_type": "markdown",
   "metadata": {},
   "source": [
    "## Table of contents\n",
    "- Qubit Lattice\n",
    "- FRQI\n",
    "- MCRQI"
   ]
  },
  {
   "cell_type": "markdown",
   "metadata": {},
   "source": [
    "Information is an abstract concept that refers to something which has the *potential* to inform. Images are a kind of classical data which convey visual information. Operating with information may allow us to obtain *more* information. \n",
    "\n",
    "Information can be represented in an infinite number of ways, some useful, some not. \n",
    "\n",
    "Images are often represented using the RGB model, where one has three independent matrices, one for each primary color. But there also exists the HSI model, which represents and image via the hue, saturation and intensity.\n",
    "\n",
    "It is pretty obvious that both of this representations are better suited, more efficient, to *inform* about the contents of an image compared to a flattened representation, despite containing essentially the same information."
   ]
  },
  {
   "cell_type": "markdown",
   "metadata": {},
   "source": [
    "In the quantum realm the same thing happens. With the added complication that we work with a less intuitive paradigm. "
   ]
  },
  {
   "cell_type": "markdown",
   "metadata": {},
   "source": [
    "In this tutorial we'll focus on images"
   ]
  },
  {
   "cell_type": "markdown",
   "metadata": {},
   "source": [
    "QC in 3 lines.\n",
    "\n",
    "\n",
    "Qubits are fancy bits. Bits are like a switch, qubits are like a fancy switch which can be correlated in a way simple switches cannot. As with bits, we have logical gates for fancy bits, aka qubits.\n",
    "\n",
    "Fancy switches are a bit picky so they are vulnerable to noise and change their behaviour once you look at them."
   ]
  },
  {
   "cell_type": "markdown",
   "metadata": {},
   "source": [
    "# Qubit lattice"
   ]
  },
  {
   "cell_type": "markdown",
   "metadata": {},
   "source": [
    "The simplest way we can represent an image is via the *Qubit Lattice Representation*. As you will see this is a very non-efficient method but serves as a very good introduction point for quantum representations of images."
   ]
  },
  {
   "cell_type": "markdown",
   "metadata": {},
   "source": [
    "- We store the images as a lattice (matrix) of qubits.\n",
    "- We store the color/intensity as $\\theta$.    \n",
    "  - interpolate the pixel value with an angle from 0 to $\\pi$.\n",
    "- We store three copies. (I think we can forget about this)"
   ]
  },
  {
   "cell_type": "markdown",
   "metadata": {},
   "source": []
  },
  {
   "cell_type": "markdown",
   "metadata": {},
   "source": [
    "# FRQI"
   ]
  },
  {
   "cell_type": "markdown",
   "metadata": {},
   "source": [
    "FRQI is the first *efficient* quantum representation of multi-channel images which exploits the *quantumness* of quantum computers."
   ]
  }
 ],
 "metadata": {
  "kernelspec": {
   "display_name": "qrep-env",
   "language": "python",
   "name": "python3"
  },
  "language_info": {
   "codemirror_mode": {
    "name": "ipython",
    "version": 3
   },
   "file_extension": ".py",
   "mimetype": "text/x-python",
   "name": "python",
   "nbconvert_exporter": "python",
   "pygments_lexer": "ipython3",
   "version": "3.12.6"
  }
 },
 "nbformat": 4,
 "nbformat_minor": 2
}
