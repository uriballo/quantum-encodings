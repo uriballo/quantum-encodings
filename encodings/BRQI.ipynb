{
 "cells": [
  {
   "cell_type": "code",
   "execution_count": 13,
   "metadata": {},
   "outputs": [],
   "source": [
    "import utils\n",
    "import qiskit\n",
    "import qiskit_aer\n",
    "import numpy as np\n",
    "from math import log\n",
    "import qiskit.visualization\n",
    "import matplotlib.pyplot as plt\n",
    "from qiskit.circuit.library import XGate"
   ]
  },
  {
   "cell_type": "code",
   "execution_count": 14,
   "metadata": {},
   "outputs": [
    {
     "data": {
      "image/png": "[encoded data removed]",
      "text/plain": [
       "<Figure size 640x480 with 1 Axes>"
      ]
     },
     "metadata": {},
     "output_type": "display_data"
    }
   ],
   "source": [
    "image = utils.plot_image('images/three_8by8.jpg', 'Digit 3 from MNIST')"
   ]
  },
  {
   "cell_type": "code",
   "execution_count": 15,
   "metadata": {},
   "outputs": [],
   "source": [
    "def equal_superposition(circ: qiskit.QuantumCircuit, start: int, end: int):\n",
    "    for idx in range(start, end): \n",
    "        circ.h(idx)\n",
    "        \n",
    "def iterate(circ: qiskit.QuantumCircuit, padding: int, current_state: str, next_state: str):\n",
    "    n = len(current_state)\n",
    "    \n",
    "    # Indices we must apply an X gate to go from current_state to next_state \n",
    "    #   - We reverse the state strings because we set the coordinates qubits in the circuit\n",
    "    #       in descending order.\n",
    "    x_targets = np.array([idx + padding for idx in range(n) \n",
    "                          if current_state[::-1][idx] != next_state[::-1][idx]])\n",
    "\n",
    "    # Example\n",
    "    # 1110 -> 1111\n",
    "    #   if we don't reverse the strings we get:\n",
    "    #   x_targets = [3]\n",
    "    #   thus we will apply the X gate on the fourth qubit.\n",
    "    #   but this is not what we want, we should apply it to the first qubit.\n",
    "    #   think little endian vs big endian\n",
    "    \n",
    "    if x_targets.size > 0:\n",
    "        circ.x(x_targets)\n",
    "\n",
    "def pixel_encoding(circ: qiskit.QuantumCircuit, control: list, intensity: str):\n",
    "    for idx, val in enumerate(intensity[::-1]):\n",
    "        if int(val):\n",
    "            circ.mcx(control_qubits=control,\n",
    "                     target_qubit=idx)\n",
    "            \n",
    "    "
   ]
  },
  {
   "cell_type": "code",
   "execution_count": 16,
   "metadata": {},
   "outputs": [],
   "source": [
    "def construct_brqi(circ: qiskit.QuantumCircuit, image: np.array):\n",
    "    # TEMP\n",
    "    w_bits = int(np.ceil(log(image.shape[1], 2)))\n",
    "    h_bits = int(np.ceil(log(image.shape[0], 2)))\n",
    "    \n",
    "    num_qubits = circ.num_qubits\n",
    "    \n",
    "    circ.h([*range(1, num_qubits)])\n",
    "    circ.barrier()\n",
    "    \n",
    "    for bitplane in range(8):\n",
    "        bin_bitplane = '{0:0{1}b}'.format(bitplane, 8)\n",
    "        \n",
    "        for idx, bit in enumerate(bin_bitplane):\n",
    "            if not int(bit):\n",
    "                circ.x(idx)\n",
    "                \n",
    "        for i in range(image.shape[0]):\n",
    "            for j in range(image.shape[1]):\n",
    "                pixel_val = '{0:0{1}b}'.format(image[i, j], 8)\n",
    "                \n",
    "                if int(pixel_val[bitplane]):\n",
    "                    i_bit = '{0:0{1}b}'.format(i, h_bits)\n",
    "                    \n",
    "                    for i_n, ibit in enumerate(i_bit):\n",
    "                        if not int(ibit):\n",
    "                            circ.x(1 + h_bits + i_n)\n",
    "                        \n",
    "                        j_bit = \"{0:b}\".format(j).zfill(w_bits)\n",
    "                    for j_n, jbit in enumerate(j_bit):\n",
    "                        if jbit!='1':\n",
    "                            circ.x(1+ j_n)\n",
    "                    circ.barrier()\n",
    "                    controls = list(range(1, num_qubits))\n",
    "                    xg = XGate(None).control(len(controls))\n",
    "                    controls.append(1)\n",
    "                    circ.append(xg, controls)\n",
    "\n",
    "                    for j_n, jbit in enumerate(j_bit):\n",
    "                        if jbit!='1':\n",
    "                            circ.x(1 +j_n )\n",
    "\n",
    "                    for i_n, ibit in enumerate(i_bit):\n",
    "                            if ibit!='1':\n",
    "                                circ.x(1 + h_bits + i_n)\n",
    "                    circ.barrier()\n",
    "\n",
    "        for idx, bit in enumerate(bin_bitplane):\n",
    "            if not int(bit):\n",
    "                circ.x(1 + 8 + idx -1)\n",
    "    circ.barrier()\n",
    "    \n",
    "    to_measure = [*range(num_qubits)]\n",
    "    \n",
    "    circ.measure(to_measure, to_measure)"
   ]
  },
  {
   "cell_type": "code",
   "execution_count": 17,
   "metadata": {},
   "outputs": [],
   "source": [
    "w_bits = int(np.ceil(log(image.shape[1], 2)))\n",
    "h_bits = int(np.ceil(log(image.shape[0], 2)))\n",
    "color_n_b = int(np.ceil(log(8, 2)))\n",
    "\n",
    "n = int(log(image.shape[0], 2))\n",
    "\n",
    "color_reg = qiskit.QuantumRegister(1, 'Color')\n",
    "ys_reg = qiskit.QuantumRegister(w_bits, 'Y axis')\n",
    "xs_reg = qiskit.QuantumRegister(h_bits, 'X axis')\n",
    "bitplane_reg = qiskit.QuantumRegister(color_n_b, 'Bitplanes')\n",
    "creg = qiskit.ClassicalRegister(1+w_bits+h_bits+color_n_b, 'Bits')\n",
    "\n",
    "brqi_circuit = qiskit.QuantumCircuit(color_reg, ys_reg, xs_reg, bitplane_reg, creg)"
   ]
  },
  {
   "cell_type": "code",
   "execution_count": 18,
   "metadata": {},
   "outputs": [
    {
     "ename": "CircuitError",
     "evalue": "'duplicate qubit arguments'",
     "output_type": "error",
     "traceback": [
      "\u001b[0;31m---------------------------------------------------------------------------\u001b[0m",
      "\u001b[0;31mCircuitError\u001b[0m                              Traceback (most recent call last)",
      "Cell \u001b[0;32mIn[18], line 1\u001b[0m\n\u001b[0;32m----> 1\u001b[0m \u001b[43mconstruct_brqi\u001b[49m\u001b[43m(\u001b[49m\u001b[43mbrqi_circuit\u001b[49m\u001b[43m,\u001b[49m\u001b[43m  \u001b[49m\u001b[43mimage\u001b[49m\u001b[43m)\u001b[49m\n\u001b[1;32m      2\u001b[0m brqi_circuit\u001b[38;5;241m.\u001b[39mdraw(output\u001b[38;5;241m=\u001b[39m\u001b[38;5;124m'\u001b[39m\u001b[38;5;124mmpl\u001b[39m\u001b[38;5;124m'\u001b[39m)\n",
      "Cell \u001b[0;32mIn[16], line 37\u001b[0m, in \u001b[0;36mconstruct_brqi\u001b[0;34m(circ, image)\u001b[0m\n\u001b[1;32m     35\u001b[0m xg \u001b[38;5;241m=\u001b[39m XGate(\u001b[38;5;28;01mNone\u001b[39;00m)\u001b[38;5;241m.\u001b[39mcontrol(\u001b[38;5;28mlen\u001b[39m(controls))\n\u001b[1;32m     36\u001b[0m controls\u001b[38;5;241m.\u001b[39mappend(\u001b[38;5;241m1\u001b[39m)\n\u001b[0;32m---> 37\u001b[0m \u001b[43mcirc\u001b[49m\u001b[38;5;241;43m.\u001b[39;49m\u001b[43mappend\u001b[49m\u001b[43m(\u001b[49m\u001b[43mxg\u001b[49m\u001b[43m,\u001b[49m\u001b[43m \u001b[49m\u001b[43mcontrols\u001b[49m\u001b[43m)\u001b[49m\n\u001b[1;32m     39\u001b[0m \u001b[38;5;28;01mfor\u001b[39;00m j_n, jbit \u001b[38;5;129;01min\u001b[39;00m \u001b[38;5;28menumerate\u001b[39m(j_bit):\n\u001b[1;32m     40\u001b[0m     \u001b[38;5;28;01mif\u001b[39;00m jbit\u001b[38;5;241m!=\u001b[39m\u001b[38;5;124m'\u001b[39m\u001b[38;5;124m1\u001b[39m\u001b[38;5;124m'\u001b[39m:\n",
      "File \u001b[0;32m~/Documents/PhD/CVC/quantum-representations-of-classical-data/qrep-env/lib/python3.12/site-packages/qiskit/circuit/quantumcircuit.py:2529\u001b[0m, in \u001b[0;36mQuantumCircuit.append\u001b[0;34m(self, instruction, qargs, cargs, copy)\u001b[0m\n\u001b[1;32m   2527\u001b[0m base_instruction \u001b[38;5;241m=\u001b[39m CircuitInstruction(operation, (), ())\n\u001b[1;32m   2528\u001b[0m \u001b[38;5;28;01mfor\u001b[39;00m qarg, carg \u001b[38;5;129;01min\u001b[39;00m broadcast_iter:\n\u001b[0;32m-> 2529\u001b[0m     \u001b[38;5;28;43mself\u001b[39;49m\u001b[38;5;241;43m.\u001b[39;49m\u001b[43m_check_dups\u001b[49m\u001b[43m(\u001b[49m\u001b[43mqarg\u001b[49m\u001b[43m)\u001b[49m\n\u001b[1;32m   2530\u001b[0m     instruction \u001b[38;5;241m=\u001b[39m base_instruction\u001b[38;5;241m.\u001b[39mreplace(qubits\u001b[38;5;241m=\u001b[39mqarg, clbits\u001b[38;5;241m=\u001b[39mcarg)\n\u001b[1;32m   2531\u001b[0m     circuit_scope\u001b[38;5;241m.\u001b[39mappend(instruction)\n",
      "File \u001b[0;32m~/Documents/PhD/CVC/quantum-representations-of-classical-data/qrep-env/lib/python3.12/site-packages/qiskit/circuit/quantumcircuit.py:3159\u001b[0m, in \u001b[0;36mQuantumCircuit._check_dups\u001b[0;34m(self, qubits)\u001b[0m\n\u001b[1;32m   3157\u001b[0m squbits \u001b[38;5;241m=\u001b[39m \u001b[38;5;28mset\u001b[39m(qubits)\n\u001b[1;32m   3158\u001b[0m \u001b[38;5;28;01mif\u001b[39;00m \u001b[38;5;28mlen\u001b[39m(squbits) \u001b[38;5;241m!=\u001b[39m \u001b[38;5;28mlen\u001b[39m(qubits):\n\u001b[0;32m-> 3159\u001b[0m     \u001b[38;5;28;01mraise\u001b[39;00m CircuitError(\u001b[38;5;124m\"\u001b[39m\u001b[38;5;124mduplicate qubit arguments\u001b[39m\u001b[38;5;124m\"\u001b[39m)\n",
      "\u001b[0;31mCircuitError\u001b[0m: 'duplicate qubit arguments'"
     ]
    }
   ],
   "source": [
    "construct_brqi(brqi_circuit,  image)\n",
    "brqi_circuit.draw(output='mpl')"
   ]
  }
 ],
 "metadata": {
  "kernelspec": {
   "display_name": "qrep-env",
   "language": "python",
   "name": "python3"
  },
  "language_info": {
   "codemirror_mode": {
    "name": "ipython",
    "version": 3
   },
   "file_extension": ".py",
   "mimetype": "text/x-python",
   "name": "python",
   "nbconvert_exporter": "python",
   "pygments_lexer": "ipython3",
   "version": "3.12.6"
  }
 },
 "nbformat": 4,
 "nbformat_minor": 2
}
